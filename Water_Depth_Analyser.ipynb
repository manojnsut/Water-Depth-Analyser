{
  "cells": [
    {
      "cell_type": "markdown",
      "metadata": {
        "id": "view-in-github",
        "colab_type": "text"
      },
      "source": [
        "<a href=\"https://colab.research.google.com/github/manojnsut/Water-Depth-Analyser/blob/main/Water_Depth_Analyser.ipynb\" target=\"_parent\"><img src=\"https://colab.research.google.com/assets/colab-badge.svg\" alt=\"Open In Colab\"/></a>"
      ]
    },
    {
      "cell_type": "code",
      "execution_count": null,
      "id": "ade3ba92",
      "metadata": {
        "id": "ade3ba92"
      },
      "outputs": [],
      "source": [
        "import matplotlib.pyplot as plt\n",
        "import numpy as np\n",
        "import os\n",
        "import tensorflow as tf\n",
        "import pandas as pd"
      ]
    },
    {
      "cell_type": "markdown",
      "source": [],
      "metadata": {
        "id": "d8zH9Y_PlsLC"
      },
      "id": "d8zH9Y_PlsLC"
    },
    {
      "cell_type": "code",
      "execution_count": null,
      "id": "adb97a19",
      "metadata": {
        "id": "adb97a19"
      },
      "outputs": [],
      "source": [
        "from google.colab import drive\n",
        "drive.mount('/content/drive')"
      ]
    },
    {
      "cell_type": "code",
      "execution_count": null,
      "id": "b938d853",
      "metadata": {
        "id": "b938d853"
      },
      "outputs": [],
      "source": [
        "import numpy as np"
      ]
    },
    {
      "cell_type": "code",
      "execution_count": null,
      "id": "6f6856a2",
      "metadata": {
        "id": "6f6856a2"
      },
      "outputs": [],
      "source": [
        "label = pd.read_csv(\"/content/drive/MyDrive/Dataset/labels.csv\", header=None, names=[\"label\"])"
      ]
    },
    {
      "cell_type": "code",
      "source": [
        "label.value_counts()"
      ],
      "metadata": {
        "id": "frPx4FecbDdr"
      },
      "id": "frPx4FecbDdr",
      "execution_count": null,
      "outputs": []
    },
    {
      "cell_type": "code",
      "source": [
        "label.columns"
      ],
      "metadata": {
        "id": "UymA5TOecmr6"
      },
      "id": "UymA5TOecmr6",
      "execution_count": null,
      "outputs": []
    },
    {
      "cell_type": "code",
      "source": [
        "def change(num):\n",
        "    if(num <= 1):\n",
        "        return 1\n",
        "    elif(num > 1 and num < 2):\n",
        "        return 2\n",
        "    elif(num > 2 and num < 3):\n",
        "        return 3\n",
        "    elif(num > 3 and num < 4):\n",
        "        return 4\n",
        "    elif(num >= 4):\n",
        "        return 5\n",
        "\n",
        "label[\"label\"] = label[\"label\"].apply(lambda x : change(x))"
      ],
      "metadata": {
        "id": "7dbLS6TwaCXa"
      },
      "id": "7dbLS6TwaCXa",
      "execution_count": null,
      "outputs": []
    },
    {
      "cell_type": "code",
      "source": [
        "label.head()"
      ],
      "metadata": {
        "id": "ap2G4FhScw2V"
      },
      "id": "ap2G4FhScw2V",
      "execution_count": null,
      "outputs": []
    },
    {
      "cell_type": "code",
      "execution_count": null,
      "id": "5c652708",
      "metadata": {
        "id": "5c652708"
      },
      "outputs": [],
      "source": [
        "import os\n",
        "import cv2\n",
        "\n",
        "# Folder path containing the images\n",
        "folder_path = '/content/drive/MyDrive/Dataset/dataset'\n",
        "\n",
        "# Get a list of all image files in the folder\n",
        "image_files = [f for f in os.listdir(folder_path) if os.path.isfile(os.path.join(folder_path, f)) and f.endswith(('.jpg'))]\n",
        "\n",
        "# Read and process each image\n",
        "images = []\n",
        "for image_file in image_files:\n",
        "    image_path = os.path.join(folder_path, image_file)\n",
        "    image = cv2.imread(image_path)\n",
        "\n",
        "    # Check if the image was successfully loaded\n",
        "    if image is not None:\n",
        "        images.append(image)\n",
        "    else:\n",
        "        print(f'Failed to load the image: {image_path}')\n"
      ]
    },
    {
      "cell_type": "code",
      "execution_count": null,
      "id": "a3697222",
      "metadata": {
        "id": "a3697222"
      },
      "outputs": [],
      "source": [
        "images[0].shape"
      ]
    },
    {
      "cell_type": "code",
      "execution_count": null,
      "id": "7f89c138",
      "metadata": {
        "id": "7f89c138"
      },
      "outputs": [],
      "source": [
        "numbers = np.array(label[\"label\"])"
      ]
    },
    {
      "cell_type": "code",
      "source": [
        "len(numbers)"
      ],
      "metadata": {
        "id": "nic_4VHaehxp"
      },
      "id": "nic_4VHaehxp",
      "execution_count": null,
      "outputs": []
    },
    {
      "cell_type": "code",
      "execution_count": null,
      "id": "4db06cce",
      "metadata": {
        "id": "4db06cce"
      },
      "outputs": [],
      "source": [
        "dataset = tf.data.Dataset.from_tensor_slices((images, numbers))"
      ]
    },
    {
      "cell_type": "code",
      "execution_count": null,
      "id": "10cbfed8",
      "metadata": {
        "id": "10cbfed8"
      },
      "outputs": [],
      "source": [
        "train_size = int(0.8 * len(dataset))  # 80% for training\n",
        "train_dataset = dataset.take(train_size)\n",
        "val_dataset = dataset.skip(train_size)\n"
      ]
    },
    {
      "cell_type": "code",
      "execution_count": null,
      "id": "774b5d26",
      "metadata": {
        "id": "774b5d26"
      },
      "outputs": [],
      "source": [
        "batch_size = 32\n",
        "train_dataset = train_dataset.batch(batch_size)\n",
        "val_dataset = val_dataset.batch(batch_size)\n",
        "train_dataset = train_dataset.prefetch(buffer_size=tf.data.AUTOTUNE)\n",
        "val_dataset = val_dataset.prefetch(buffer_size=tf.data.AUTOTUNE)"
      ]
    },
    {
      "cell_type": "code",
      "source": [
        "sample = next(iter(train_dataset.take(1)))\n",
        "image, label = sample[0], sample[1]\n",
        "print(\"Image shape:\", image.shape)\n",
        "print(\"Label:\", label)\n"
      ],
      "metadata": {
        "id": "vg86RhUohPYh"
      },
      "id": "vg86RhUohPYh",
      "execution_count": null,
      "outputs": []
    },
    {
      "cell_type": "code",
      "execution_count": null,
      "id": "4608168e",
      "metadata": {
        "id": "4608168e"
      },
      "outputs": [],
      "source": [
        "import tensorflow as tf\n",
        "from tensorflow.keras.applications import ResNet50V2\n"
      ]
    },
    {
      "cell_type": "code",
      "source": [
        "from sklearn.metrics import classification_report, confusion_matrix\n"
      ],
      "metadata": {
        "id": "XwNMae7jlP9h"
      },
      "id": "XwNMae7jlP9h",
      "execution_count": null,
      "outputs": []
    },
    {
      "cell_type": "code",
      "source": [
        "preprocess_input = tf.keras.applications.resnet.preprocess_input\n",
        "train_dataset = train_dataset.map(lambda x, y: (preprocess_input(x), tf.one_hot(y, 4)))\n",
        "val_dataset = val_dataset.map(lambda x, y: (preprocess_input(x), tf.one_hot(y, 4)))\n"
      ],
      "metadata": {
        "id": "4pp5Kbscfm73"
      },
      "id": "4pp5Kbscfm73",
      "execution_count": null,
      "outputs": []
    },
    {
      "cell_type": "code",
      "source": [
        "base_model = ResNet50V2(weights='imagenet', include_top=False, input_shape=(224, 224, 3))\n",
        "\n",
        "# Freeze the base model layers\n",
        "base_model.trainable = False\n",
        "\n",
        "# Add your custom head\n",
        "num_classes = 4  # Number of output classes\n",
        "model = tf.keras.Sequential([\n",
        "    base_model,\n",
        "    tf.keras.layers.GlobalAveragePooling2D(),\n",
        "    tf.keras.layers.Dense(256, activation='relu'),\n",
        "    tf.keras.layers.Dense(128, activation='relu'),\n",
        "    tf.keras.layers.Dense(64, activation='relu'),\n",
        "    tf.keras.layers.Dense(num_classes, activation='softmax')\n",
        "])\n",
        "\n",
        "# Compile the model\n",
        "model.compile(loss='categorical_crossentropy', optimizer='adam', metrics=['accuracy'])\n",
        "\n",
        "def f1_score(y_true, y_pred):\n",
        "    y_true = tf.argmax(y_true, axis=1)\n",
        "    y_pred = tf.argmax(y_pred, axis=1)\n",
        "    return tf.keras.metrics.f1_score(y_true, y_pred, average='weighted')\n",
        "\n",
        "# Define callback to calculate metrics at the end of each epoch\n",
        "class MetricsCallback(tf.keras.callbacks.Callback):\n",
        "    def on_epoch_end(self, epoch, logs=None):\n",
        "        val_predictions = self.model.predict(val_dataset)\n",
        "        val_labels = tf.concat([y for _, y in val_dataset], axis=0)\n",
        "        val_predictions = tf.argmax(val_predictions, axis=1)\n",
        "        val_labels = tf.argmax(val_labels, axis=1)\n",
        "\n",
        "        # Calculate F1 score\n",
        "        f1 = classification_report(val_labels, val_predictions)\n",
        "        print(\"F1 Score:\\n\", f1)\n",
        "\n",
        "        # Calculate confusion matrix\n",
        "        confusion = confusion_matrix(val_labels, val_predictions)\n",
        "        print(\"Confusion Matrix:\\n\", confusion)\n",
        "\n",
        "\n",
        "# Train the model\n",
        "num_epochs = 10  # Number of epochs\n",
        "history = model.fit(train_dataset, epochs=num_epochs, validation_data=val_dataset)\n",
        "\n",
        "# Plot accuracy over epochs\n",
        "plt.plot(history.history['accuracy'])\n",
        "plt.plot(history.history['val_accuracy'])\n",
        "plt.title('Model Accuracy')\n",
        "plt.xlabel('Epoch')\n",
        "plt.ylabel('Accuracy')\n",
        "plt.legend(['Train', 'Validation'], loc='upper left')\n",
        "plt.show()\n"
      ],
      "metadata": {
        "id": "r36kLKJefm-G"
      },
      "id": "r36kLKJefm-G",
      "execution_count": null,
      "outputs": []
    }
  ],
  "metadata": {
    "kernelspec": {
      "display_name": "Python 3 (ipykernel)",
      "language": "python",
      "name": "python3"
    },
    "language_info": {
      "codemirror_mode": {
        "name": "ipython",
        "version": 3
      },
      "file_extension": ".py",
      "mimetype": "text/x-python",
      "name": "python",
      "nbconvert_exporter": "python",
      "pygments_lexer": "ipython3",
      "version": "3.8.10"
    },
    "colab": {
      "provenance": [],
      "gpuType": "T4",
      "include_colab_link": true
    },
    "accelerator": "GPU",
    "gpuClass": "standard"
  },
  "nbformat": 4,
  "nbformat_minor": 5
}